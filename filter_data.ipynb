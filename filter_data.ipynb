{
 "cells": [
  {
   "cell_type": "code",
   "execution_count": 1,
   "metadata": {},
   "outputs": [],
   "source": [
    "import os\n",
    "import pandas as pd\n",
    "\n",
    "from utils import *"
   ]
  },
  {
   "cell_type": "code",
   "execution_count": null,
   "metadata": {},
   "outputs": [],
   "source": [
    "dataB_list = []\n",
    "dataM_list = []\n",
    "for d in os.listdir('data/CSE-CIC-IDS2018-SPLIT'):\n",
    "        if d != '.ipynb_checkpoints':\n",
    "            print(d)\n",
    "            data = load_data(f'data/CSE-CIC-IDS2018-SPLIT/{d}')\n",
    "            dataB = data[(data['Label'] ==  \"Benign\")]\n",
    "            data = data[(data['Label'] !=  \"Benign\")]\n",
    "\n",
    "            # Seleciona aleatoriamente as amostras\n",
    "            dataB = dataB.sample(n=int(len(data)*0.07))\n",
    "            data = data.sample(n=int(len(data)*0.20))\n",
    "\n",
    "            dataB_list.append(dataB)\n",
    "            dataM_list.append(data)\n",
    "\n",
    "dataB = pd.concat(dataB_list, ignore_index=True)\n",
    "data = pd.concat(dataM_list, ignore_index=True)\n",
    "\n",
    "# Seleciona as 500k instâncias de forma aleatória\n",
    "dataB = dataB.sample(n=130000)\n",
    "data = data.sample(n=370000)\n",
    "\n",
    "data = pd.concat([dataB, data], ignore_index=True)\n",
    "data = data.sample(frac=1).reset_index(drop=True)\n",
    "\n",
    "# Retira as colunas com informações inúteis para o modelo\n",
    "data = data.drop(columns=['Timestamp', 'Flow ID', 'Src IP', 'Src Port', 'Dst IP'])\n",
    "\n",
    "data.to_csv(f'data/CSE-CIC-IDS2018/CSE-CIC-IDS2018-500k.csv', index=False)"
   ]
  }
 ],
 "metadata": {
  "kernelspec": {
   "display_name": "Python 3",
   "language": "python",
   "name": "python3"
  },
  "language_info": {
   "codemirror_mode": {
    "name": "ipython",
    "version": 3
   },
   "file_extension": ".py",
   "mimetype": "text/x-python",
   "name": "python",
   "nbconvert_exporter": "python",
   "pygments_lexer": "ipython3",
   "version": "3.10.12"
  }
 },
 "nbformat": 4,
 "nbformat_minor": 2
}
